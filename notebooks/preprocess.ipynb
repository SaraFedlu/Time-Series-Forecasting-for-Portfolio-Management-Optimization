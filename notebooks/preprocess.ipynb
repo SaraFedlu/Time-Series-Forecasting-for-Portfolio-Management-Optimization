{
 "cells": [
  {
   "cell_type": "code",
   "execution_count": 39,
   "metadata": {},
   "outputs": [],
   "source": [
    "import pandas as pd\n",
    "from sklearn.preprocessing import MinMaxScaler\n",
    "import numpy as np"
   ]
  },
  {
   "cell_type": "code",
   "execution_count": 47,
   "metadata": {},
   "outputs": [],
   "source": [
    "# Load the data\n",
    "bnd_df = pd.read_csv(\"../data/BND_data.csv\")\n",
    "spy_df = pd.read_csv(\"../data/SPY_data.csv\")\n",
    "tsla_df = pd.read_csv(\"../data/TSLA_data.csv\")"
   ]
  },
  {
   "cell_type": "code",
   "execution_count": 41,
   "metadata": {},
   "outputs": [
    {
     "name": "stdout",
     "output_type": "stream",
     "text": [
      "BND data:\n",
      "                         Date       Open       High        Low      Close  \\\n",
      "0  2015-01-02 00:00:00-05:00  62.406598  62.603442  62.399026  62.573158   \n",
      "1  2015-01-05 00:00:00-05:00  62.641262  62.777537  62.610977  62.754826   \n",
      "2  2015-01-06 00:00:00-05:00  62.860847  63.125825  62.860847  62.936554   \n",
      "3  2015-01-07 00:00:00-05:00  62.944100  63.050092  62.875965  62.974384   \n",
      "4  2015-01-08 00:00:00-05:00  62.921366  62.921366  62.815374  62.875942   \n",
      "\n",
      "    Volume  Dividends  Stock Splits  Capital Gains  \n",
      "0  2218800        0.0           0.0            0.0  \n",
      "1  5820100        0.0           0.0            0.0  \n",
      "2  3887600        0.0           0.0            0.0  \n",
      "3  2433400        0.0           0.0            0.0  \n",
      "4  1873400        0.0           0.0            0.0   \n",
      "\n",
      "SPY data:\n",
      "                         Date        Open        High         Low       Close  \\\n",
      "0  2015-01-02 00:00:00-05:00  173.391022  173.811099  171.542672  172.592865   \n",
      "1  2015-01-05 00:00:00-05:00  171.534297  171.702325  169.165069  169.475922   \n",
      "2  2015-01-06 00:00:00-05:00  169.786764  170.316066  167.073070  167.879623   \n",
      "3  2015-01-07 00:00:00-05:00  169.223897  170.316100  168.770219  169.971634   \n",
      "4  2015-01-08 00:00:00-05:00  171.399841  173.206180  171.383047  172.987732   \n",
      "\n",
      "      Volume  Dividends  Stock Splits  Capital Gains  \n",
      "0  121465900        0.0           0.0            0.0  \n",
      "1  169632600        0.0           0.0            0.0  \n",
      "2  209151400        0.0           0.0            0.0  \n",
      "3  125346700        0.0           0.0            0.0  \n",
      "4  147217800        0.0           0.0            0.0   \n",
      "\n",
      "TSLA data:\n",
      "                         Date       Open       High        Low      Close  \\\n",
      "0  2015-01-02 00:00:00-05:00  14.858000  14.883333  14.217333  14.620667   \n",
      "1  2015-01-05 00:00:00-05:00  14.303333  14.433333  13.810667  14.006000   \n",
      "2  2015-01-06 00:00:00-05:00  14.004000  14.280000  13.614000  14.085333   \n",
      "3  2015-01-07 00:00:00-05:00  14.223333  14.318667  13.985333  14.063333   \n",
      "4  2015-01-08 00:00:00-05:00  14.187333  14.253333  14.000667  14.041333   \n",
      "\n",
      "     Volume  Dividends  Stock Splits  \n",
      "0  71466000        0.0           0.0  \n",
      "1  80527500        0.0           0.0  \n",
      "2  93928500        0.0           0.0  \n",
      "3  44526000        0.0           0.0  \n",
      "4  51637500        0.0           0.0   \n",
      "\n"
     ]
    }
   ],
   "source": [
    "print(\"BND data:\\n\", bnd_df.head(), \"\\n\")\n",
    "print(\"SPY data:\\n\", spy_df.head(), \"\\n\")\n",
    "print(\"TSLA data:\\n\", tsla_df.head(), \"\\n\")"
   ]
  },
  {
   "cell_type": "code",
   "execution_count": 42,
   "metadata": {},
   "outputs": [
    {
     "name": "stdout",
     "output_type": "stream",
     "text": [
      "\n",
      "BND data info:\n",
      "\n",
      "<class 'pandas.core.frame.DataFrame'>\n",
      "RangeIndex: 2535 entries, 0 to 2534\n",
      "Data columns (total 9 columns):\n",
      " #   Column         Non-Null Count  Dtype  \n",
      "---  ------         --------------  -----  \n",
      " 0   Date           2535 non-null   object \n",
      " 1   Open           2535 non-null   float64\n",
      " 2   High           2535 non-null   float64\n",
      " 3   Low            2535 non-null   float64\n",
      " 4   Close          2535 non-null   float64\n",
      " 5   Volume         2535 non-null   int64  \n",
      " 6   Dividends      2535 non-null   float64\n",
      " 7   Stock Splits   2535 non-null   float64\n",
      " 8   Capital Gains  2535 non-null   float64\n",
      "dtypes: float64(7), int64(1), object(1)\n",
      "memory usage: 178.4+ KB\n",
      "\n",
      "SPY data info:\n",
      "\n",
      "<class 'pandas.core.frame.DataFrame'>\n",
      "RangeIndex: 2535 entries, 0 to 2534\n",
      "Data columns (total 9 columns):\n",
      " #   Column         Non-Null Count  Dtype  \n",
      "---  ------         --------------  -----  \n",
      " 0   Date           2535 non-null   object \n",
      " 1   Open           2535 non-null   float64\n",
      " 2   High           2535 non-null   float64\n",
      " 3   Low            2535 non-null   float64\n",
      " 4   Close          2535 non-null   float64\n",
      " 5   Volume         2535 non-null   int64  \n",
      " 6   Dividends      2535 non-null   float64\n",
      " 7   Stock Splits   2535 non-null   float64\n",
      " 8   Capital Gains  2535 non-null   float64\n",
      "dtypes: float64(7), int64(1), object(1)\n",
      "memory usage: 178.4+ KB\n",
      "\n",
      "TSLA data info:\n",
      "\n",
      "<class 'pandas.core.frame.DataFrame'>\n",
      "RangeIndex: 2535 entries, 0 to 2534\n",
      "Data columns (total 8 columns):\n",
      " #   Column        Non-Null Count  Dtype  \n",
      "---  ------        --------------  -----  \n",
      " 0   Date          2535 non-null   object \n",
      " 1   Open          2535 non-null   float64\n",
      " 2   High          2535 non-null   float64\n",
      " 3   Low           2535 non-null   float64\n",
      " 4   Close         2535 non-null   float64\n",
      " 5   Volume        2535 non-null   int64  \n",
      " 6   Dividends     2535 non-null   float64\n",
      " 7   Stock Splits  2535 non-null   float64\n",
      "dtypes: float64(6), int64(1), object(1)\n",
      "memory usage: 158.6+ KB\n"
     ]
    }
   ],
   "source": [
    "print(\"\\nBND data info:\\n\")\n",
    "bnd_df.info()\n",
    "print(\"\\nSPY data info:\\n\")\n",
    "bnd_df.info()\n",
    "print(\"\\nTSLA data info:\\n\")\n",
    "tsla_df.info()"
   ]
  },
  {
   "cell_type": "code",
   "execution_count": 49,
   "metadata": {},
   "outputs": [
    {
     "name": "stdout",
     "output_type": "stream",
     "text": [
      "BND data type: datetime64[ns, UTC]\n",
      "SPY data type: datetime64[ns, UTC]\n",
      "TSLA data type: datetime64[ns, UTC]\n"
     ]
    }
   ],
   "source": [
    "# Convert 'Date' column to datetime format\n",
    "bnd_df[\"Date\"] = pd.to_datetime(bnd_df[\"Date\"],utc=True)\n",
    "spy_df[\"Date\"] = pd.to_datetime(spy_df[\"Date\"],utc=True)\n",
    "tsla_df[\"Date\"] = pd.to_datetime(tsla_df[\"Date\"],utc=True)\n",
    "print(\"BND data type:\", bnd_df[\"Date\"].dtype)\n",
    "print(\"SPY data type:\", spy_df[\"Date\"].dtype)\n",
    "print(\"TSLA data type:\", tsla_df[\"Date\"].dtype)"
   ]
  },
  {
   "cell_type": "code",
   "execution_count": 50,
   "metadata": {},
   "outputs": [],
   "source": [
    "# Sort data by date\n",
    "bnd_df = bnd_df.sort_values(\"Date\").reset_index(drop=True)\n",
    "spy_df = spy_df.sort_values(\"Date\").reset_index(drop=True)\n",
    "tsla_df = tsla_df.sort_values(\"Date\").reset_index(drop=True)"
   ]
  },
  {
   "cell_type": "code",
   "execution_count": 24,
   "metadata": {},
   "outputs": [
    {
     "name": "stdout",
     "output_type": "stream",
     "text": [
      "BND data statistics:\n",
      "               Open         High          Low        Close        Volume  \\\n",
      "count  2535.000000  2535.000000  2535.000000  2535.000000  2.535000e+03   \n",
      "mean     69.293225    69.391262    69.186013    69.289452  4.233200e+06   \n",
      "std       4.793199     4.800408     4.782141     4.792145  2.796083e+06   \n",
      "min      61.891450    61.937365    61.822616    61.860855  0.000000e+00   \n",
      "25%      65.552702    65.630169    65.475486    65.565285  2.057700e+06   \n",
      "50%      68.310226    68.457877    68.169755    68.329124  3.805800e+06   \n",
      "75%      72.845683    72.946445    72.728782    72.879936  5.626700e+06   \n",
      "max      78.884927    78.920157    78.788028    78.823265  3.193720e+07   \n",
      "\n",
      "         Dividends  Stock Splits  Capital Gains  \n",
      "count  2535.000000        2535.0         2535.0  \n",
      "mean      0.008633           0.0            0.0  \n",
      "std       0.039645           0.0            0.0  \n",
      "min       0.000000           0.0            0.0  \n",
      "25%       0.000000           0.0            0.0  \n",
      "50%       0.000000           0.0            0.0  \n",
      "75%       0.000000           0.0            0.0  \n",
      "max       0.369000           0.0            0.0   \n",
      "\n",
      "SPY data statistics:\n",
      "               Open         High          Low        Close        Volume  \\\n",
      "count  2535.000000  2535.000000  2535.000000  2535.000000  2.535000e+03   \n",
      "mean    316.021384   317.725660   314.157889   316.067402  8.714655e+07   \n",
      "std     117.921618   118.486410   117.269902   117.926910  4.487253e+07   \n",
      "min     156.354913   157.864105   154.676898   156.800812  2.027000e+07   \n",
      "25%     214.972500   215.702261   214.206870   214.841972  5.862005e+07   \n",
      "50%     277.230781   277.919488   276.073642   277.117859  7.642870e+07   \n",
      "75%     406.100271   409.134325   402.830844   405.869186  1.018866e+08   \n",
      "max     609.809998   610.780029   606.799988   609.750000  5.072443e+08   \n",
      "\n",
      "         Dividends  Stock Splits  Capital Gains  \n",
      "count  2535.000000        2535.0         2535.0  \n",
      "mean      0.021969           0.0            0.0  \n",
      "std       0.176404           0.0            0.0  \n",
      "min       0.000000           0.0            0.0  \n",
      "25%       0.000000           0.0            0.0  \n",
      "50%       0.000000           0.0            0.0  \n",
      "75%       0.000000           0.0            0.0  \n",
      "max       1.966000           0.0            0.0   \n",
      "\n",
      "TSLA data statistics:\n",
      "               Open         High          Low        Close        Volume  \\\n",
      "count  2535.000000  2535.000000  2535.000000  2535.000000  2.535000e+03   \n",
      "mean    117.877662   120.474827   115.097514   117.848209  1.120308e+08   \n",
      "std     116.611575   119.236025   113.698930   116.508288  7.387509e+07   \n",
      "min       9.488000    10.331333     9.403333     9.578000  1.062000e+07   \n",
      "25%      17.259334    17.527667    16.942000    17.228000  6.680295e+07   \n",
      "50%      31.299999    32.329334    29.760000    30.298000  9.264180e+07   \n",
      "75%     222.653336   226.696671   217.061661   221.525002  1.294283e+08   \n",
      "max     475.899994   488.540009   457.510010   479.859985  9.140820e+08   \n",
      "\n",
      "       Dividends  Stock Splits  \n",
      "count     2535.0   2535.000000  \n",
      "mean         0.0      0.003156  \n",
      "std          0.0      0.115791  \n",
      "min          0.0      0.000000  \n",
      "25%          0.0      0.000000  \n",
      "50%          0.0      0.000000  \n",
      "75%          0.0      0.000000  \n",
      "max          0.0      5.000000   \n",
      "\n"
     ]
    }
   ],
   "source": [
    "print(\"BND data statistics:\\n\", bnd_df.describe(), \"\\n\")\n",
    "print(\"SPY data statistics:\\n\", spy_df.describe(), \"\\n\")\n",
    "print(\"TSLA data statistics:\\n\", tsla_df.describe(), \"\\n\")"
   ]
  },
  {
   "cell_type": "code",
   "execution_count": 30,
   "metadata": {},
   "outputs": [
    {
     "name": "stdout",
     "output_type": "stream",
     "text": [
      "BND data duplication:  0\n",
      "SPY data duplication:  0\n",
      "TSLA data duplication:  0\n"
     ]
    }
   ],
   "source": [
    "print(\"BND data duplication: \", bnd_df.duplicated().sum())\n",
    "print(\"SPY data duplication: \", spy_df.duplicated().sum())\n",
    "print(\"TSLA data duplication: \", tsla_df.duplicated().sum())"
   ]
  },
  {
   "cell_type": "code",
   "execution_count": 34,
   "metadata": {},
   "outputs": [
    {
     "name": "stdout",
     "output_type": "stream",
     "text": [
      "BND data null values:\n",
      " Date             0\n",
      "Open             0\n",
      "High             0\n",
      "Low              0\n",
      "Close            0\n",
      "Volume           0\n",
      "Dividends        0\n",
      "Stock Splits     0\n",
      "Capital Gains    0\n",
      "dtype: int64 \n",
      "\n",
      "SPY data null values:\n",
      " Date             0\n",
      "Open             0\n",
      "High             0\n",
      "Low              0\n",
      "Close            0\n",
      "Volume           0\n",
      "Dividends        0\n",
      "Stock Splits     0\n",
      "Capital Gains    0\n",
      "dtype: int64 \n",
      "\n",
      "TSLA data null values:\n",
      " Date            0\n",
      "Open            0\n",
      "High            0\n",
      "Low             0\n",
      "Close           0\n",
      "Volume          0\n",
      "Dividends       0\n",
      "Stock Splits    0\n",
      "dtype: int64 \n",
      "\n"
     ]
    }
   ],
   "source": [
    "print(\"BND data null values:\\n\", bnd_df.isna().sum(), \"\\n\")\n",
    "print(\"SPY data null values:\\n\", spy_df.isna().sum(), \"\\n\")\n",
    "print(\"TSLA data null values:\\n\", tsla_df.isna().sum(), \"\\n\")"
   ]
  },
  {
   "cell_type": "code",
   "execution_count": 51,
   "metadata": {},
   "outputs": [],
   "source": [
    "# Drop unnecessary columns\n",
    "bnd_df.drop(columns=[\"Dividends\", \"Stock Splits\", \"Capital Gains\"], inplace=True)\n",
    "spy_df.drop(columns=[\"Dividends\", \"Stock Splits\", \"Capital Gains\"], inplace=True)\n",
    "tsla_df.drop(columns=[\"Dividends\", \"Stock Splits\"], inplace=True)"
   ]
  },
  {
   "cell_type": "code",
   "execution_count": 52,
   "metadata": {},
   "outputs": [],
   "source": [
    "# Normalize numerical columns using MinMaxScaler\n",
    "scaler = MinMaxScaler()\n",
    "numeric_columns = [\"Open\", \"High\", \"Low\", \"Close\", \"Volume\"]\n",
    "\n",
    "bnd_df[numeric_columns] = scaler.fit_transform(bnd_df[numeric_columns])\n",
    "spy_df[numeric_columns] = scaler.fit_transform(spy_df[numeric_columns])\n",
    "tsla_df[numeric_columns] = scaler.fit_transform(tsla_df[numeric_columns])"
   ]
  },
  {
   "cell_type": "code",
   "execution_count": 53,
   "metadata": {},
   "outputs": [],
   "source": [
    "# Save cleaned data\n",
    "bnd_df.to_csv(\"../data/BND_cleaned.csv\", index=False)\n",
    "spy_df.to_csv(\"../data/SPY_cleaned.csv\", index=False)\n",
    "tsla_df.to_csv(\"../data/TSLA_cleaned.csv\", index=False)"
   ]
  }
 ],
 "metadata": {
  "kernelspec": {
   "display_name": ".env",
   "language": "python",
   "name": "python3"
  },
  "language_info": {
   "codemirror_mode": {
    "name": "ipython",
    "version": 3
   },
   "file_extension": ".py",
   "mimetype": "text/x-python",
   "name": "python",
   "nbconvert_exporter": "python",
   "pygments_lexer": "ipython3",
   "version": "3.11.8"
  }
 },
 "nbformat": 4,
 "nbformat_minor": 2
}
