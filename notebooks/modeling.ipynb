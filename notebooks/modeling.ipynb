{
 "cells": [
  {
   "cell_type": "code",
   "execution_count": 11,
   "metadata": {},
   "outputs": [],
   "source": [
    "import pandas as pd\n",
    "import numpy as np\n",
    "import matplotlib.pyplot as plt\n",
    "from statsmodels.tsa.arima.model import ARIMA\n",
    "from statsmodels.tsa.statespace.sarimax import SARIMAX\n",
    "from sklearn.preprocessing import MinMaxScaler\n",
    "import tensorflow as tf\n",
    "from tensorflow.keras.models import Sequential\n",
    "from tensorflow.keras.layers import LSTM, Dense\n",
    "from pmdarima import auto_arima\n",
    "from sklearn.metrics import mean_absolute_error, mean_squared_error\n",
    "import pickle"
   ]
  },
  {
   "cell_type": "code",
   "execution_count": 2,
   "metadata": {},
   "outputs": [],
   "source": [
    "tsla = pd.read_csv(\"../data/TSLA_cleaned.csv\", parse_dates=True, index_col=\"Date\")\n",
    "bnd = pd.read_csv(\"../data/BND_cleaned.csv\", parse_dates=True, index_col=\"Date\")\n",
    "spy = pd.read_csv(\"../data/SPY_cleaned.csv\", parse_dates=True, index_col=\"Date\")"
   ]
  },
  {
   "cell_type": "code",
   "execution_count": 27,
   "metadata": {},
   "outputs": [
    {
     "data": {
      "text/html": [
       "<div>\n",
       "<style scoped>\n",
       "    .dataframe tbody tr th:only-of-type {\n",
       "        vertical-align: middle;\n",
       "    }\n",
       "\n",
       "    .dataframe tbody tr th {\n",
       "        vertical-align: top;\n",
       "    }\n",
       "\n",
       "    .dataframe thead th {\n",
       "        text-align: right;\n",
       "    }\n",
       "</style>\n",
       "<table border=\"1\" class=\"dataframe\">\n",
       "  <thead>\n",
       "    <tr style=\"text-align: right;\">\n",
       "      <th></th>\n",
       "      <th>Open</th>\n",
       "      <th>High</th>\n",
       "      <th>Low</th>\n",
       "      <th>Close</th>\n",
       "      <th>Volume</th>\n",
       "    </tr>\n",
       "    <tr>\n",
       "      <th>Date</th>\n",
       "      <th></th>\n",
       "      <th></th>\n",
       "      <th></th>\n",
       "      <th></th>\n",
       "      <th></th>\n",
       "    </tr>\n",
       "  </thead>\n",
       "  <tbody>\n",
       "    <tr>\n",
       "      <th>2015-01-02 05:00:00+00:00</th>\n",
       "      <td>0.011513</td>\n",
       "      <td>0.009519</td>\n",
       "      <td>0.010743</td>\n",
       "      <td>0.010723</td>\n",
       "      <td>0.067348</td>\n",
       "    </tr>\n",
       "    <tr>\n",
       "      <th>2015-01-05 05:00:00+00:00</th>\n",
       "      <td>0.010324</td>\n",
       "      <td>0.008578</td>\n",
       "      <td>0.009835</td>\n",
       "      <td>0.009416</td>\n",
       "      <td>0.077377</td>\n",
       "    </tr>\n",
       "    <tr>\n",
       "      <th>2015-01-06 05:00:00+00:00</th>\n",
       "      <td>0.009682</td>\n",
       "      <td>0.008257</td>\n",
       "      <td>0.009397</td>\n",
       "      <td>0.009584</td>\n",
       "      <td>0.092210</td>\n",
       "    </tr>\n",
       "    <tr>\n",
       "      <th>2015-01-07 05:00:00+00:00</th>\n",
       "      <td>0.010153</td>\n",
       "      <td>0.008338</td>\n",
       "      <td>0.010225</td>\n",
       "      <td>0.009538</td>\n",
       "      <td>0.037529</td>\n",
       "    </tr>\n",
       "    <tr>\n",
       "      <th>2015-01-08 05:00:00+00:00</th>\n",
       "      <td>0.010075</td>\n",
       "      <td>0.008201</td>\n",
       "      <td>0.010259</td>\n",
       "      <td>0.009491</td>\n",
       "      <td>0.045400</td>\n",
       "    </tr>\n",
       "  </tbody>\n",
       "</table>\n",
       "</div>"
      ],
      "text/plain": [
       "                               Open      High       Low     Close    Volume\n",
       "Date                                                                       \n",
       "2015-01-02 05:00:00+00:00  0.011513  0.009519  0.010743  0.010723  0.067348\n",
       "2015-01-05 05:00:00+00:00  0.010324  0.008578  0.009835  0.009416  0.077377\n",
       "2015-01-06 05:00:00+00:00  0.009682  0.008257  0.009397  0.009584  0.092210\n",
       "2015-01-07 05:00:00+00:00  0.010153  0.008338  0.010225  0.009538  0.037529\n",
       "2015-01-08 05:00:00+00:00  0.010075  0.008201  0.010259  0.009491  0.045400"
      ]
     },
     "execution_count": 27,
     "metadata": {},
     "output_type": "execute_result"
    }
   ],
   "source": [
    "tsla.head()"
   ]
  },
  {
   "cell_type": "code",
   "execution_count": 3,
   "metadata": {},
   "outputs": [],
   "source": [
    "tsla.index = pd.date_range(start=tsla.index[0], periods=len(tsla), freq=\"D\")"
   ]
  },
  {
   "cell_type": "code",
   "execution_count": 29,
   "metadata": {},
   "outputs": [
    {
     "data": {
      "text/plain": [
       "<Day>"
      ]
     },
     "execution_count": 29,
     "metadata": {},
     "output_type": "execute_result"
    }
   ],
   "source": [
    "tsla.index.freq"
   ]
  },
  {
   "cell_type": "code",
   "execution_count": 4,
   "metadata": {},
   "outputs": [],
   "source": [
    "# Split into train (80%) and test (20%)\n",
    "train_size = int(len(tsla) * 0.8)\n",
    "train, test = tsla['Close'][:train_size], tsla['Close'][train_size:]"
   ]
  },
  {
   "cell_type": "code",
   "execution_count": 31,
   "metadata": {},
   "outputs": [],
   "source": [
    "# Train ARIMA Model\n",
    "order = (5, 1, 0)\n",
    "model = ARIMA(train, order=order)\n",
    "model_fit = model.fit()"
   ]
  },
  {
   "cell_type": "code",
   "execution_count": 32,
   "metadata": {},
   "outputs": [],
   "source": [
    "# Forecast\n",
    "forecast_steps = len(test)\n",
    "forecast = model_fit.forecast(steps=forecast_steps)"
   ]
  },
  {
   "cell_type": "code",
   "execution_count": 33,
   "metadata": {},
   "outputs": [
    {
     "data": {
      "image/png": "[encoded data removed]",
      "text/plain": [
       "<Figure size 1000x500 with 1 Axes>"
      ]
     },
     "metadata": {},
     "output_type": "display_data"
    }
   ],
   "source": [
    "# Plot results\n",
    "plt.figure(figsize=(10,5))\n",
    "plt.plot(train.index, train, label=\"Train\")\n",
    "plt.plot(test.index, test, label=\"Actual Test\", color='green')\n",
    "plt.plot(test.index, forecast, label=\"Forecast\", color='red', linestyle=\"dashed\")\n",
    "plt.legend()\n",
    "plt.title(f\"ARIMA Forecast for TSLA\")\n",
    "plt.show()"
   ]
  },
  {
   "cell_type": "code",
   "execution_count": 34,
   "metadata": {},
   "outputs": [
    {
     "name": "stdout",
     "output_type": "stream",
     "text": [
      "                               SARIMAX Results                                \n",
      "==============================================================================\n",
      "Dep. Variable:                  Close   No. Observations:                 2028\n",
      "Model:                 ARIMA(5, 1, 0)   Log Likelihood                6137.919\n",
      "Date:                Mon, 03 Mar 2025   AIC                         -12263.838\n",
      "Time:                        12:30:59   BIC                         -12230.152\n",
      "Sample:                    01-02-2015   HQIC                        -12251.478\n",
      "                         - 07-21-2020                                         \n",
      "Covariance Type:                  opg                                         \n",
      "==============================================================================\n",
      "                 coef    std err          z      P>|z|      [0.025      0.975]\n",
      "------------------------------------------------------------------------------\n",
      "ar.L1         -0.0376      0.012     -3.108      0.002      -0.061      -0.014\n",
      "ar.L2          0.0154      0.010      1.498      0.134      -0.005       0.036\n",
      "ar.L3      -1.843e-05      0.013     -0.001      0.999      -0.026       0.026\n",
      "ar.L4          0.0403      0.011      3.633      0.000       0.019       0.062\n",
      "ar.L5         -0.0118      0.011     -1.095      0.274      -0.033       0.009\n",
      "sigma2         0.0001   1.52e-06     90.419      0.000       0.000       0.000\n",
      "===================================================================================\n",
      "Ljung-Box (L1) (Q):                   0.00   Jarque-Bera (JB):             18592.20\n",
      "Prob(Q):                              0.99   Prob(JB):                         0.00\n",
      "Heteroskedasticity (H):             587.32   Skew:                            -0.13\n",
      "Prob(H) (two-sided):                  0.00   Kurtosis:                        17.83\n",
      "===================================================================================\n",
      "\n",
      "Warnings:\n",
      "[1] Covariance matrix calculated using the outer product of gradients (complex-step).\n"
     ]
    }
   ],
   "source": [
    "# Print model summary\n",
    "print(model_fit.summary())"
   ]
  },
  {
   "cell_type": "code",
   "execution_count": 6,
   "metadata": {},
   "outputs": [
    {
     "name": "stderr",
     "output_type": "stream",
     "text": [
      "/home/user/Time-Series-Forecasting-for-Portfolio-Management-Optimization/.env/lib/python3.11/site-packages/sklearn/utils/deprecation.py:151: FutureWarning: 'force_all_finite' was renamed to 'ensure_all_finite' in 1.6 and will be removed in 1.8.\n",
      "  warnings.warn(\n",
      "/home/user/Time-Series-Forecasting-for-Portfolio-Management-Optimization/.env/lib/python3.11/site-packages/sklearn/utils/deprecation.py:151: FutureWarning: 'force_all_finite' was renamed to 'ensure_all_finite' in 1.6 and will be removed in 1.8.\n",
      "  warnings.warn(\n",
      "/home/user/Time-Series-Forecasting-for-Portfolio-Management-Optimization/.env/lib/python3.11/site-packages/sklearn/utils/deprecation.py:151: FutureWarning: 'force_all_finite' was renamed to 'ensure_all_finite' in 1.6 and will be removed in 1.8.\n",
      "  warnings.warn(\n",
      "/home/user/Time-Series-Forecasting-for-Portfolio-Management-Optimization/.env/lib/python3.11/site-packages/sklearn/utils/deprecation.py:151: FutureWarning: 'force_all_finite' was renamed to 'ensure_all_finite' in 1.6 and will be removed in 1.8.\n",
      "  warnings.warn(\n",
      "/home/user/Time-Series-Forecasting-for-Portfolio-Management-Optimization/.env/lib/python3.11/site-packages/sklearn/utils/deprecation.py:151: FutureWarning: 'force_all_finite' was renamed to 'ensure_all_finite' in 1.6 and will be removed in 1.8.\n",
      "  warnings.warn(\n",
      "/home/user/Time-Series-Forecasting-for-Portfolio-Management-Optimization/.env/lib/python3.11/site-packages/sklearn/utils/deprecation.py:151: FutureWarning: 'force_all_finite' was renamed to 'ensure_all_finite' in 1.6 and will be removed in 1.8.\n",
      "  warnings.warn(\n",
      "/home/user/Time-Series-Forecasting-for-Portfolio-Management-Optimization/.env/lib/python3.11/site-packages/sklearn/utils/deprecation.py:151: FutureWarning: 'force_all_finite' was renamed to 'ensure_all_finite' in 1.6 and will be removed in 1.8.\n",
      "  warnings.warn(\n",
      "/home/user/Time-Series-Forecasting-for-Portfolio-Management-Optimization/.env/lib/python3.11/site-packages/sklearn/utils/deprecation.py:151: FutureWarning: 'force_all_finite' was renamed to 'ensure_all_finite' in 1.6 and will be removed in 1.8.\n",
      "  warnings.warn(\n",
      "/home/user/Time-Series-Forecasting-for-Portfolio-Management-Optimization/.env/lib/python3.11/site-packages/sklearn/utils/deprecation.py:151: FutureWarning: 'force_all_finite' was renamed to 'ensure_all_finite' in 1.6 and will be removed in 1.8.\n",
      "  warnings.warn(\n",
      "/home/user/Time-Series-Forecasting-for-Portfolio-Management-Optimization/.env/lib/python3.11/site-packages/sklearn/utils/deprecation.py:151: FutureWarning: 'force_all_finite' was renamed to 'ensure_all_finite' in 1.6 and will be removed in 1.8.\n",
      "  warnings.warn(\n",
      "/home/user/Time-Series-Forecasting-for-Portfolio-Management-Optimization/.env/lib/python3.11/site-packages/sklearn/utils/deprecation.py:151: FutureWarning: 'force_all_finite' was renamed to 'ensure_all_finite' in 1.6 and will be removed in 1.8.\n",
      "  warnings.warn(\n"
     ]
    },
    {
     "name": "stdout",
     "output_type": "stream",
     "text": [
      "Performing stepwise search to minimize aic\n"
     ]
    },
    {
     "name": "stdout",
     "output_type": "stream",
     "text": [
      " ARIMA(2,1,2)(1,0,1)[30] intercept   : AIC=-5744.114, Time=6.90 sec\n",
      " ARIMA(0,1,0)(0,0,0)[30] intercept   : AIC=-5753.426, Time=0.14 sec\n"
     ]
    },
    {
     "name": "stderr",
     "output_type": "stream",
     "text": [
      "/home/user/Time-Series-Forecasting-for-Portfolio-Management-Optimization/.env/lib/python3.11/site-packages/sklearn/utils/deprecation.py:151: FutureWarning: 'force_all_finite' was renamed to 'ensure_all_finite' in 1.6 and will be removed in 1.8.\n",
      "  warnings.warn(\n",
      "/home/user/Time-Series-Forecasting-for-Portfolio-Management-Optimization/.env/lib/python3.11/site-packages/sklearn/utils/deprecation.py:151: FutureWarning: 'force_all_finite' was renamed to 'ensure_all_finite' in 1.6 and will be removed in 1.8.\n",
      "  warnings.warn(\n"
     ]
    },
    {
     "name": "stdout",
     "output_type": "stream",
     "text": [
      " ARIMA(1,1,0)(1,0,0)[30] intercept   : AIC=-5751.742, Time=3.66 sec\n"
     ]
    },
    {
     "name": "stderr",
     "output_type": "stream",
     "text": [
      "/home/user/Time-Series-Forecasting-for-Portfolio-Management-Optimization/.env/lib/python3.11/site-packages/sklearn/utils/deprecation.py:151: FutureWarning: 'force_all_finite' was renamed to 'ensure_all_finite' in 1.6 and will be removed in 1.8.\n",
      "  warnings.warn(\n"
     ]
    },
    {
     "name": "stdout",
     "output_type": "stream",
     "text": [
      " ARIMA(0,1,1)(0,0,1)[30] intercept   : AIC=-5751.698, Time=5.55 sec\n",
      " ARIMA(0,1,0)(0,0,0)[30]             : AIC=-5755.422, Time=0.05 sec\n"
     ]
    },
    {
     "name": "stderr",
     "output_type": "stream",
     "text": [
      "/home/user/Time-Series-Forecasting-for-Portfolio-Management-Optimization/.env/lib/python3.11/site-packages/sklearn/utils/deprecation.py:151: FutureWarning: 'force_all_finite' was renamed to 'ensure_all_finite' in 1.6 and will be removed in 1.8.\n",
      "  warnings.warn(\n",
      "/home/user/Time-Series-Forecasting-for-Portfolio-Management-Optimization/.env/lib/python3.11/site-packages/sklearn/utils/deprecation.py:151: FutureWarning: 'force_all_finite' was renamed to 'ensure_all_finite' in 1.6 and will be removed in 1.8.\n",
      "  warnings.warn(\n"
     ]
    },
    {
     "name": "stdout",
     "output_type": "stream",
     "text": [
      " ARIMA(0,1,0)(1,0,0)[30] intercept   : AIC=-5751.453, Time=5.18 sec\n"
     ]
    },
    {
     "name": "stderr",
     "output_type": "stream",
     "text": [
      "/home/user/Time-Series-Forecasting-for-Portfolio-Management-Optimization/.env/lib/python3.11/site-packages/sklearn/utils/deprecation.py:151: FutureWarning: 'force_all_finite' was renamed to 'ensure_all_finite' in 1.6 and will be removed in 1.8.\n",
      "  warnings.warn(\n"
     ]
    },
    {
     "name": "stdout",
     "output_type": "stream",
     "text": [
      " ARIMA(0,1,0)(0,0,1)[30] intercept   : AIC=-5751.451, Time=1.94 sec\n"
     ]
    },
    {
     "name": "stderr",
     "output_type": "stream",
     "text": [
      "/home/user/Time-Series-Forecasting-for-Portfolio-Management-Optimization/.env/lib/python3.11/site-packages/sklearn/utils/deprecation.py:151: FutureWarning: 'force_all_finite' was renamed to 'ensure_all_finite' in 1.6 and will be removed in 1.8.\n",
      "  warnings.warn(\n"
     ]
    },
    {
     "name": "stdout",
     "output_type": "stream",
     "text": [
      " ARIMA(0,1,0)(1,0,1)[30] intercept   : AIC=-5749.440, Time=4.02 sec\n",
      " ARIMA(1,1,0)(0,0,0)[30] intercept   : AIC=-5753.697, Time=0.13 sec\n"
     ]
    },
    {
     "name": "stderr",
     "output_type": "stream",
     "text": [
      "/home/user/Time-Series-Forecasting-for-Portfolio-Management-Optimization/.env/lib/python3.11/site-packages/sklearn/utils/deprecation.py:151: FutureWarning: 'force_all_finite' was renamed to 'ensure_all_finite' in 1.6 and will be removed in 1.8.\n",
      "  warnings.warn(\n",
      "/home/user/Time-Series-Forecasting-for-Portfolio-Management-Optimization/.env/lib/python3.11/site-packages/sklearn/utils/deprecation.py:151: FutureWarning: 'force_all_finite' was renamed to 'ensure_all_finite' in 1.6 and will be removed in 1.8.\n",
      "  warnings.warn(\n"
     ]
    },
    {
     "name": "stdout",
     "output_type": "stream",
     "text": [
      " ARIMA(0,1,1)(0,0,0)[30] intercept   : AIC=-5753.657, Time=0.68 sec\n"
     ]
    },
    {
     "name": "stderr",
     "output_type": "stream",
     "text": [
      "/home/user/Time-Series-Forecasting-for-Portfolio-Management-Optimization/.env/lib/python3.11/site-packages/sklearn/utils/deprecation.py:151: FutureWarning: 'force_all_finite' was renamed to 'ensure_all_finite' in 1.6 and will be removed in 1.8.\n",
      "  warnings.warn(\n"
     ]
    },
    {
     "name": "stdout",
     "output_type": "stream",
     "text": [
      " ARIMA(1,1,1)(0,0,0)[30] intercept   : AIC=-5751.712, Time=0.67 sec\n",
      "\n",
      "Best model:  ARIMA(0,1,0)(0,0,0)[30]          \n",
      "Total fit time: 28.973 seconds\n",
      "                               SARIMAX Results                                \n",
      "==============================================================================\n",
      "Dep. Variable:                      y   No. Observations:                  500\n",
      "Model:               SARIMAX(0, 1, 0)   Log Likelihood                2878.711\n",
      "Date:                Tue, 04 Mar 2025   AIC                          -5755.422\n",
      "Time:                        04:57:49   BIC                          -5751.210\n",
      "Sample:                    01-02-2015   HQIC                         -5753.769\n",
      "                         - 05-15-2016                                         \n",
      "Covariance Type:                  opg                                         \n",
      "==============================================================================\n",
      "                 coef    std err          z      P>|z|      [0.025      0.975]\n",
      "------------------------------------------------------------------------------\n",
      "sigma2      5.698e-07   2.47e-08     23.070      0.000    5.21e-07    6.18e-07\n",
      "===================================================================================\n",
      "Ljung-Box (L1) (Q):                   2.28   Jarque-Bera (JB):               113.60\n",
      "Prob(Q):                              0.13   Prob(JB):                         0.00\n",
      "Heteroskedasticity (H):               0.62   Skew:                            -0.32\n",
      "Prob(H) (two-sided):                  0.00   Kurtosis:                         5.25\n",
      "===================================================================================\n",
      "\n",
      "Warnings:\n",
      "[1] Covariance matrix calculated using the outer product of gradients (complex-step).\n"
     ]
    }
   ],
   "source": [
    "# Find optimal order automatically\n",
    "auto_model = auto_arima(train[:500], seasonal=True, m=30, trace=True, stepwise=True)\n",
    "print(auto_model.summary())"
   ]
  },
  {
   "cell_type": "code",
   "execution_count": 7,
   "metadata": {},
   "outputs": [],
   "source": [
    "model = ARIMA(train, order=(1,1,1))\n",
    "model_fit = model.fit()"
   ]
  },
  {
   "cell_type": "code",
   "execution_count": 8,
   "metadata": {},
   "outputs": [
    {
     "data": {
      "text/plain": [
       "2020-07-22 05:00:00+00:00    0.284644\n",
       "2020-07-23 05:00:00+00:00    0.284913\n",
       "2020-07-24 05:00:00+00:00    0.284803\n",
       "2020-07-25 05:00:00+00:00    0.284848\n",
       "2020-07-26 05:00:00+00:00    0.284830\n",
       "                               ...   \n",
       "2021-12-06 05:00:00+00:00    0.284835\n",
       "2021-12-07 05:00:00+00:00    0.284835\n",
       "2021-12-08 05:00:00+00:00    0.284835\n",
       "2021-12-09 05:00:00+00:00    0.284835\n",
       "2021-12-10 05:00:00+00:00    0.284835\n",
       "Freq: D, Name: predicted_mean, Length: 507, dtype: float64"
      ]
     },
     "execution_count": 8,
     "metadata": {},
     "output_type": "execute_result"
    }
   ],
   "source": [
    "forecast = model_fit.forecast(steps=len(test))\n",
    "forecast"
   ]
  },
  {
   "cell_type": "code",
   "execution_count": 10,
   "metadata": {},
   "outputs": [
    {
     "name": "stdout",
     "output_type": "stream",
     "text": [
      "Mean Absolute Error (MAE): 0.1916\n",
      "Root Mean Squared Error (RMSE): 0.2366\n",
      "Mean Absolute Percentage Error (MAPE): 36.14%\n"
     ]
    }
   ],
   "source": [
    "mae = mean_absolute_error(test, forecast)\n",
    "rmse = np.sqrt(mean_squared_error(test, forecast))\n",
    "mape = np.mean(np.abs((test - forecast) / test)) * 100\n",
    "\n",
    "# Print the results\n",
    "print(f\"Mean Absolute Error (MAE): {mae:.4f}\")\n",
    "print(f\"Root Mean Squared Error (RMSE): {rmse:.4f}\")\n",
    "print(f\"Mean Absolute Percentage Error (MAPE): {mape:.2f}%\")"
   ]
  },
  {
   "cell_type": "code",
   "execution_count": 13,
   "metadata": {},
   "outputs": [],
   "source": [
    "# Save the trained model\n",
    "with open(\"../models/arima_model.pkl\", \"wb\") as f:\n",
    "    pickle.dump(model_fit, f)"
   ]
  }
 ],
 "metadata": {
  "kernelspec": {
   "display_name": ".env",
   "language": "python",
   "name": "python3"
  },
  "language_info": {
   "codemirror_mode": {
    "name": "ipython",
    "version": 3
   },
   "file_extension": ".py",
   "mimetype": "text/x-python",
   "name": "python",
   "nbconvert_exporter": "python",
   "pygments_lexer": "ipython3",
   "version": "3.11.8"
  }
 },
 "nbformat": 4,
 "nbformat_minor": 2
}
